{
 "cells": [
  {
   "cell_type": "markdown",
   "metadata": {},
   "source": [
    "# Análise da Violência Doméstica em MG contra a Mulher em 2022"
   ]
  },
  {
   "cell_type": "markdown",
   "metadata": {},
   "source": [
    "Análise exploratória dos dados da violência doméstica contra a mulher disponibilizado pela Policia Cívil de Minas Gerais\n",
    "\n",
    "Dados: https://dados.mg.gov.br/dataset/ab7e00b6-a8ae-4426-8809-85e23f3f6b6f/resource/3075b898-19f0-4769-ab8e-2f56cabfd7ba/download/violencia_domestica_2022.csv"
   ]
  },
  {
   "cell_type": "code",
   "execution_count": 2,
   "metadata": {},
   "outputs": [],
   "source": [
    "import pandas as pd\n",
    "import plotly.graph_objects as go\n",
    "import datetime\n",
    "import numpy as np"
   ]
  },
  {
   "cell_type": "code",
   "execution_count": 3,
   "metadata": {},
   "outputs": [],
   "source": [
    "#carregando o dataset\n",
    "df=pd.read_csv('data/violencia_domestica_2022.csv',sep=';')"
   ]
  },
  {
   "cell_type": "code",
   "execution_count": 4,
   "metadata": {},
   "outputs": [
    {
     "data": {
      "text/html": [
       "<div>\n",
       "<style scoped>\n",
       "    .dataframe tbody tr th:only-of-type {\n",
       "        vertical-align: middle;\n",
       "    }\n",
       "\n",
       "    .dataframe tbody tr th {\n",
       "        vertical-align: top;\n",
       "    }\n",
       "\n",
       "    .dataframe thead th {\n",
       "        text-align: right;\n",
       "    }\n",
       "</style>\n",
       "<table border=\"1\" class=\"dataframe\">\n",
       "  <thead>\n",
       "    <tr style=\"text-align: right;\">\n",
       "      <th></th>\n",
       "      <th>municipio_cod</th>\n",
       "      <th>municipio_fato</th>\n",
       "      <th>data_fato</th>\n",
       "      <th>mes</th>\n",
       "      <th>ano</th>\n",
       "      <th>risp</th>\n",
       "      <th>rmbh</th>\n",
       "      <th>natureza_delito</th>\n",
       "      <th>tentado_consumado</th>\n",
       "      <th>qtde_vitimas</th>\n",
       "    </tr>\n",
       "  </thead>\n",
       "  <tbody>\n",
       "    <tr>\n",
       "      <th>0</th>\n",
       "      <td>310010</td>\n",
       "      <td>ABADIA DOS DOURADOS</td>\n",
       "      <td>2022-01-01</td>\n",
       "      <td>1</td>\n",
       "      <td>2022</td>\n",
       "      <td>10º Departamento - Patos de Minas</td>\n",
       "      <td>3) Interior de MG</td>\n",
       "      <td>LESAO CORPORAL</td>\n",
       "      <td>CONSUMADO</td>\n",
       "      <td>1</td>\n",
       "    </tr>\n",
       "    <tr>\n",
       "      <th>1</th>\n",
       "      <td>310020</td>\n",
       "      <td>ABAETE</td>\n",
       "      <td>2022-01-01</td>\n",
       "      <td>1</td>\n",
       "      <td>2022</td>\n",
       "      <td>7º Departamento - Divinópolis</td>\n",
       "      <td>3) Interior de MG</td>\n",
       "      <td>AMEACA</td>\n",
       "      <td>CONSUMADO</td>\n",
       "      <td>1</td>\n",
       "    </tr>\n",
       "    <tr>\n",
       "      <th>2</th>\n",
       "      <td>310030</td>\n",
       "      <td>ABRE-CAMPO</td>\n",
       "      <td>2022-01-01</td>\n",
       "      <td>1</td>\n",
       "      <td>2022</td>\n",
       "      <td>12º Departamento - Ipatinga</td>\n",
       "      <td>3) Interior de MG</td>\n",
       "      <td>LESAO CORPORAL</td>\n",
       "      <td>CONSUMADO</td>\n",
       "      <td>1</td>\n",
       "    </tr>\n",
       "    <tr>\n",
       "      <th>3</th>\n",
       "      <td>310030</td>\n",
       "      <td>ABRE-CAMPO</td>\n",
       "      <td>2022-01-01</td>\n",
       "      <td>1</td>\n",
       "      <td>2022</td>\n",
       "      <td>12º Departamento - Ipatinga</td>\n",
       "      <td>3) Interior de MG</td>\n",
       "      <td>VIAS DE FATO / AGRESSAO</td>\n",
       "      <td>CONSUMADO</td>\n",
       "      <td>1</td>\n",
       "    </tr>\n",
       "    <tr>\n",
       "      <th>4</th>\n",
       "      <td>310090</td>\n",
       "      <td>AGUAS FORMOSAS</td>\n",
       "      <td>2022-01-01</td>\n",
       "      <td>1</td>\n",
       "      <td>2022</td>\n",
       "      <td>15º Departamento - Teófilo Otoni</td>\n",
       "      <td>3) Interior de MG</td>\n",
       "      <td>AMEACA</td>\n",
       "      <td>CONSUMADO</td>\n",
       "      <td>1</td>\n",
       "    </tr>\n",
       "  </tbody>\n",
       "</table>\n",
       "</div>"
      ],
      "text/plain": [
       "   municipio_cod       municipio_fato   data_fato  mes   ano  \\\n",
       "0         310010  ABADIA DOS DOURADOS  2022-01-01    1  2022   \n",
       "1         310020               ABAETE  2022-01-01    1  2022   \n",
       "2         310030           ABRE-CAMPO  2022-01-01    1  2022   \n",
       "3         310030           ABRE-CAMPO  2022-01-01    1  2022   \n",
       "4         310090       AGUAS FORMOSAS  2022-01-01    1  2022   \n",
       "\n",
       "                                risp               rmbh  \\\n",
       "0  10º Departamento - Patos de Minas  3) Interior de MG   \n",
       "1      7º Departamento - Divinópolis  3) Interior de MG   \n",
       "2        12º Departamento - Ipatinga  3) Interior de MG   \n",
       "3        12º Departamento - Ipatinga  3) Interior de MG   \n",
       "4   15º Departamento - Teófilo Otoni  3) Interior de MG   \n",
       "\n",
       "           natureza_delito tentado_consumado  qtde_vitimas  \n",
       "0           LESAO CORPORAL         CONSUMADO             1  \n",
       "1                   AMEACA         CONSUMADO             1  \n",
       "2           LESAO CORPORAL         CONSUMADO             1  \n",
       "3  VIAS DE FATO / AGRESSAO         CONSUMADO             1  \n",
       "4                   AMEACA         CONSUMADO             1  "
      ]
     },
     "execution_count": 4,
     "metadata": {},
     "output_type": "execute_result"
    }
   ],
   "source": [
    "df.head()"
   ]
  },
  {
   "cell_type": "markdown",
   "metadata": {},
   "source": [
    "Vamos tirar as colunas municipio_cod e risp pois elas não farão parte da análise e acoluna ano também"
   ]
  },
  {
   "cell_type": "code",
   "execution_count": 5,
   "metadata": {},
   "outputs": [],
   "source": [
    "#tirando as colunas municipio_cod,risp e \n",
    "df=df.drop(['municipio_cod','risp','ano'],axis=1)"
   ]
  },
  {
   "cell_type": "code",
   "execution_count": 6,
   "metadata": {},
   "outputs": [
    {
     "data": {
      "text/html": [
       "<div>\n",
       "<style scoped>\n",
       "    .dataframe tbody tr th:only-of-type {\n",
       "        vertical-align: middle;\n",
       "    }\n",
       "\n",
       "    .dataframe tbody tr th {\n",
       "        vertical-align: top;\n",
       "    }\n",
       "\n",
       "    .dataframe thead th {\n",
       "        text-align: right;\n",
       "    }\n",
       "</style>\n",
       "<table border=\"1\" class=\"dataframe\">\n",
       "  <thead>\n",
       "    <tr style=\"text-align: right;\">\n",
       "      <th></th>\n",
       "      <th>municipio_fato</th>\n",
       "      <th>data_fato</th>\n",
       "      <th>mes</th>\n",
       "      <th>rmbh</th>\n",
       "      <th>natureza_delito</th>\n",
       "      <th>tentado_consumado</th>\n",
       "      <th>qtde_vitimas</th>\n",
       "    </tr>\n",
       "  </thead>\n",
       "  <tbody>\n",
       "    <tr>\n",
       "      <th>0</th>\n",
       "      <td>ABADIA DOS DOURADOS</td>\n",
       "      <td>2022-01-01</td>\n",
       "      <td>1</td>\n",
       "      <td>3) Interior de MG</td>\n",
       "      <td>LESAO CORPORAL</td>\n",
       "      <td>CONSUMADO</td>\n",
       "      <td>1</td>\n",
       "    </tr>\n",
       "    <tr>\n",
       "      <th>1</th>\n",
       "      <td>ABAETE</td>\n",
       "      <td>2022-01-01</td>\n",
       "      <td>1</td>\n",
       "      <td>3) Interior de MG</td>\n",
       "      <td>AMEACA</td>\n",
       "      <td>CONSUMADO</td>\n",
       "      <td>1</td>\n",
       "    </tr>\n",
       "    <tr>\n",
       "      <th>2</th>\n",
       "      <td>ABRE-CAMPO</td>\n",
       "      <td>2022-01-01</td>\n",
       "      <td>1</td>\n",
       "      <td>3) Interior de MG</td>\n",
       "      <td>LESAO CORPORAL</td>\n",
       "      <td>CONSUMADO</td>\n",
       "      <td>1</td>\n",
       "    </tr>\n",
       "    <tr>\n",
       "      <th>3</th>\n",
       "      <td>ABRE-CAMPO</td>\n",
       "      <td>2022-01-01</td>\n",
       "      <td>1</td>\n",
       "      <td>3) Interior de MG</td>\n",
       "      <td>VIAS DE FATO / AGRESSAO</td>\n",
       "      <td>CONSUMADO</td>\n",
       "      <td>1</td>\n",
       "    </tr>\n",
       "    <tr>\n",
       "      <th>4</th>\n",
       "      <td>AGUAS FORMOSAS</td>\n",
       "      <td>2022-01-01</td>\n",
       "      <td>1</td>\n",
       "      <td>3) Interior de MG</td>\n",
       "      <td>AMEACA</td>\n",
       "      <td>CONSUMADO</td>\n",
       "      <td>1</td>\n",
       "    </tr>\n",
       "  </tbody>\n",
       "</table>\n",
       "</div>"
      ],
      "text/plain": [
       "        municipio_fato   data_fato  mes               rmbh  \\\n",
       "0  ABADIA DOS DOURADOS  2022-01-01    1  3) Interior de MG   \n",
       "1               ABAETE  2022-01-01    1  3) Interior de MG   \n",
       "2           ABRE-CAMPO  2022-01-01    1  3) Interior de MG   \n",
       "3           ABRE-CAMPO  2022-01-01    1  3) Interior de MG   \n",
       "4       AGUAS FORMOSAS  2022-01-01    1  3) Interior de MG   \n",
       "\n",
       "           natureza_delito tentado_consumado  qtde_vitimas  \n",
       "0           LESAO CORPORAL         CONSUMADO             1  \n",
       "1                   AMEACA         CONSUMADO             1  \n",
       "2           LESAO CORPORAL         CONSUMADO             1  \n",
       "3  VIAS DE FATO / AGRESSAO         CONSUMADO             1  \n",
       "4                   AMEACA         CONSUMADO             1  "
      ]
     },
     "execution_count": 6,
     "metadata": {},
     "output_type": "execute_result"
    }
   ],
   "source": [
    "df.head()"
   ]
  },
  {
   "cell_type": "code",
   "execution_count": 7,
   "metadata": {},
   "outputs": [
    {
     "data": {
      "text/plain": [
       "(101872, 7)"
      ]
     },
     "execution_count": 7,
     "metadata": {},
     "output_type": "execute_result"
    }
   ],
   "source": [
    "df.shape\n",
    "#vemos que o dataset possui 7 colunas e 101872 linhas"
   ]
  },
  {
   "cell_type": "code",
   "execution_count": 8,
   "metadata": {},
   "outputs": [
    {
     "name": "stdout",
     "output_type": "stream",
     "text": [
      "<class 'pandas.core.frame.DataFrame'>\n",
      "RangeIndex: 101872 entries, 0 to 101871\n",
      "Data columns (total 7 columns):\n",
      " #   Column             Non-Null Count   Dtype \n",
      "---  ------             --------------   ----- \n",
      " 0   municipio_fato     101872 non-null  object\n",
      " 1   data_fato          101872 non-null  object\n",
      " 2   mes                101872 non-null  int64 \n",
      " 3   rmbh               101872 non-null  object\n",
      " 4   natureza_delito    101872 non-null  object\n",
      " 5   tentado_consumado  101872 non-null  object\n",
      " 6   qtde_vitimas       101872 non-null  int64 \n",
      "dtypes: int64(2), object(5)\n",
      "memory usage: 5.4+ MB\n"
     ]
    }
   ],
   "source": [
    "df.info()"
   ]
  },
  {
   "cell_type": "code",
   "execution_count": 9,
   "metadata": {},
   "outputs": [],
   "source": [
    "#vamos transformar a coluna data_fato para data\n",
    "df['data_fato']=pd.to_datetime(df['data_fato'])"
   ]
  },
  {
   "cell_type": "code",
   "execution_count": 10,
   "metadata": {},
   "outputs": [
    {
     "name": "stdout",
     "output_type": "stream",
     "text": [
      "<class 'pandas.core.frame.DataFrame'>\n",
      "RangeIndex: 101872 entries, 0 to 101871\n",
      "Data columns (total 7 columns):\n",
      " #   Column             Non-Null Count   Dtype         \n",
      "---  ------             --------------   -----         \n",
      " 0   municipio_fato     101872 non-null  object        \n",
      " 1   data_fato          101872 non-null  datetime64[ns]\n",
      " 2   mes                101872 non-null  int64         \n",
      " 3   rmbh               101872 non-null  object        \n",
      " 4   natureza_delito    101872 non-null  object        \n",
      " 5   tentado_consumado  101872 non-null  object        \n",
      " 6   qtde_vitimas       101872 non-null  int64         \n",
      "dtypes: datetime64[ns](1), int64(2), object(4)\n",
      "memory usage: 5.4+ MB\n"
     ]
    }
   ],
   "source": [
    "df.info()"
   ]
  },
  {
   "cell_type": "code",
   "execution_count": 11,
   "metadata": {},
   "outputs": [
    {
     "data": {
      "text/plain": [
       "municipio_fato       0\n",
       "data_fato            0\n",
       "mes                  0\n",
       "rmbh                 0\n",
       "natureza_delito      0\n",
       "tentado_consumado    0\n",
       "qtde_vitimas         0\n",
       "dtype: int64"
      ]
     },
     "execution_count": 11,
     "metadata": {},
     "output_type": "execute_result"
    }
   ],
   "source": [
    "#checando se tem valores nulos\n",
    "df.isnull().sum()"
   ]
  },
  {
   "cell_type": "markdown",
   "metadata": {},
   "source": [
    "### Analisando o dataset"
   ]
  },
  {
   "cell_type": "markdown",
   "metadata": {},
   "source": [
    "##### Questões para se responder:\n",
    "- Qual o número de vítimas total ?\n",
    "- Qual o número de vítimas por mes ?\n",
    "- Qual a média de vítimas por mês ? \n",
    "- Qual o município que teve a maior quantidade de vítimas e a menor ?\n",
    "- Qual o tipo de crime que mais ocorreu ?\n",
    "- Quais os tipos de delitos que mais ocorreram ?\n",
    "- Qual dia da semana que mais ocorreu crimes?\n",
    "- Qual dia que ocorreu a maior quantidade de crimes e a menor ?\n",
    "- Qual região que teve a maior quantidade de vítimas ?"
   ]
  },
  {
   "cell_type": "markdown",
   "metadata": {},
   "source": [
    "### Qual o número de vítimas total ?"
   ]
  },
  {
   "cell_type": "code",
   "execution_count": 12,
   "metadata": {},
   "outputs": [
    {
     "data": {
      "text/plain": [
       "140061"
      ]
     },
     "execution_count": 12,
     "metadata": {},
     "output_type": "execute_result"
    }
   ],
   "source": [
    "#contando o número de vítimas\n",
    "quant_vit=df['qtde_vitimas'].sum()\n",
    "quant_vit"
   ]
  },
  {
   "cell_type": "markdown",
   "metadata": {},
   "source": [
    "No ano de 2022, houve cerca de 140.061 vítimas de violência doméstica em Minas Gerais"
   ]
  },
  {
   "cell_type": "markdown",
   "metadata": {},
   "source": [
    "### Qual o número de vítimas por mes ?"
   ]
  },
  {
   "cell_type": "code",
   "execution_count": 13,
   "metadata": {},
   "outputs": [],
   "source": [
    "#fazendo o agrupamanto por mes somando a quantidade de vítimas\n",
    "df_mes=df.groupby(['mes'])['qtde_vitimas'].sum()"
   ]
  },
  {
   "cell_type": "code",
   "execution_count": 14,
   "metadata": {},
   "outputs": [
    {
     "data": {
      "text/plain": [
       "mes\n",
       "10    13049\n",
       "3     12474\n",
       "12    12134\n",
       "4     12026\n",
       "8     11882\n",
       "9     11876\n",
       "1     11804\n",
       "7     11417\n",
       "11    11144\n",
       "5     10899\n",
       "2     10818\n",
       "6     10538\n",
       "Name: qtde_vitimas, dtype: int64"
      ]
     },
     "execution_count": 14,
     "metadata": {},
     "output_type": "execute_result"
    }
   ],
   "source": [
    "df_mes.sort_values(ascending=False)"
   ]
  },
  {
   "cell_type": "markdown",
   "metadata": {},
   "source": [
    "O mês que teve a maior quantidade de vítimas foi outubro com 13.049 vítimas"
   ]
  },
  {
   "cell_type": "markdown",
   "metadata": {},
   "source": [
    "O mês que teve a menor quantidade de vítimas foi junho com 10.538 vítimas"
   ]
  },
  {
   "cell_type": "markdown",
   "metadata": {},
   "source": [
    "### Qual a média de vítimas por mês ?"
   ]
  },
  {
   "cell_type": "code",
   "execution_count": 15,
   "metadata": {},
   "outputs": [
    {
     "data": {
      "text/plain": [
       "11671.75"
      ]
     },
     "execution_count": 15,
     "metadata": {},
     "output_type": "execute_result"
    }
   ],
   "source": [
    "#calculando a média de vítimas por mes\n",
    "media=df_mes.sum()/12\n",
    "media"
   ]
  },
  {
   "cell_type": "markdown",
   "metadata": {},
   "source": [
    "A média de vítimas por mês é de 11.671,75"
   ]
  },
  {
   "cell_type": "markdown",
   "metadata": {},
   "source": [
    "### Qual o município que teve a maior quantidade de vítimas e a menor ?"
   ]
  },
  {
   "cell_type": "code",
   "execution_count": 16,
   "metadata": {},
   "outputs": [],
   "source": [
    "#fazendo o agrupamento por município somando o número de vítimas\n",
    "df_mun=df.groupby(['municipio_fato'])['qtde_vitimas'].sum()"
   ]
  },
  {
   "cell_type": "code",
   "execution_count": 17,
   "metadata": {},
   "outputs": [
    {
     "data": {
      "text/plain": [
       "municipio_fato\n",
       "BELO HORIZONTE                16532\n",
       "JUIZ DE FORA                   4514\n",
       "CONTAGEM                       3810\n",
       "UBERLANDIA                     3737\n",
       "MONTES CLAROS                  2828\n",
       "                              ...  \n",
       "CAMACHO                           3\n",
       "PASSABEM                          3\n",
       "TAPIRAI                           3\n",
       "TOCOS DO MOJI                     2\n",
       "SAO SEBASTIAO DO RIO VERDE        2\n",
       "Name: qtde_vitimas, Length: 852, dtype: int64"
      ]
     },
     "execution_count": 17,
     "metadata": {},
     "output_type": "execute_result"
    }
   ],
   "source": [
    "df_mun.sort_values(ascending=False)"
   ]
  },
  {
   "cell_type": "markdown",
   "metadata": {},
   "source": [
    "O município que teve a maior quantidade de vítimas foi Belo Horizonte com 16.532 vítimas, correspondendo a 16,22% do total de vítimas no ano."
   ]
  },
  {
   "cell_type": "markdown",
   "metadata": {},
   "source": [
    "Os municípios de São Sebastião do Rio Verde e de Tocos Do Moji que tiveram a menor quantidade de vítimas com apenas 2 vítimas "
   ]
  },
  {
   "cell_type": "markdown",
   "metadata": {},
   "source": [
    "### Qual o tipo de crime que mais ocorreu ?"
   ]
  },
  {
   "cell_type": "code",
   "execution_count": 18,
   "metadata": {},
   "outputs": [],
   "source": [
    "#separando os tipos de crimes\n",
    "tipo_crime_tentado=len(df.query('tentado_consumado==\"TENTADO\"'))\n",
    "tipo_crime_consumado=len(df.query('tentado_consumado==\"CONSUMADO\"'))\n"
   ]
  },
  {
   "cell_type": "code",
   "execution_count": 19,
   "metadata": {},
   "outputs": [
    {
     "data": {
      "text/plain": [
       "924"
      ]
     },
     "execution_count": 19,
     "metadata": {},
     "output_type": "execute_result"
    }
   ],
   "source": [
    "tipo_crime_tentado"
   ]
  },
  {
   "cell_type": "code",
   "execution_count": 20,
   "metadata": {},
   "outputs": [
    {
     "data": {
      "text/plain": [
       "100948"
      ]
     },
     "execution_count": 20,
     "metadata": {},
     "output_type": "execute_result"
    }
   ],
   "source": [
    "tipo_crime_consumado"
   ]
  },
  {
   "cell_type": "markdown",
   "metadata": {},
   "source": [
    "A partir das informações conclui-se que cerca de 99,09 % dos crimes foram consumados"
   ]
  },
  {
   "cell_type": "markdown",
   "metadata": {},
   "source": [
    "### Quais os tipos de delitos que mais ocorreram ?"
   ]
  },
  {
   "cell_type": "code",
   "execution_count": 21,
   "metadata": {},
   "outputs": [
    {
     "data": {
      "text/plain": [
       "188"
      ]
     },
     "execution_count": 21,
     "metadata": {},
     "output_type": "execute_result"
    }
   ],
   "source": [
    "#contanto os tipos de delito\n",
    "tipo_delito=len(df['natureza_delito'].unique())\n",
    "tipo_delito"
   ]
  },
  {
   "cell_type": "markdown",
   "metadata": {},
   "source": [
    "Ocorreram 188 tipos de delitos diferentes"
   ]
  },
  {
   "cell_type": "code",
   "execution_count": 22,
   "metadata": {},
   "outputs": [
    {
     "data": {
      "text/plain": [
       "natureza_delito\n",
       "AMEACA                                                28997\n",
       "VIAS DE FATO / AGRESSAO                               20155\n",
       "LESAO CORPORAL                                        16874\n",
       "DESCUMPRIMENTO DE MEDIDA PROTETIVA DE URGENCIA         5570\n",
       "ATEND. DENUNCIA INFRACOES CONTRA MULHER(VIOLENCIA      3444\n",
       "DANO                                                   3076\n",
       "ATRITO VERBAL                                          2108\n",
       "PERSEGUICAO                                            2054\n",
       "FURTO                                                  1893\n",
       "INJURIA                                                1822\n",
       "Name: count, dtype: int64"
      ]
     },
     "execution_count": 22,
     "metadata": {},
     "output_type": "execute_result"
    }
   ],
   "source": [
    "tipo_delito=df['natureza_delito'].value_counts()\n",
    "tipo_delito[0:10]"
   ]
  },
  {
   "cell_type": "code",
   "execution_count": 56,
   "metadata": {},
   "outputs": [
    {
     "data": {
      "image/svg+xml": [
       "<svg class=\"main-svg\" xmlns=\"http://www.w3.org/2000/svg\" xmlns:xlink=\"http://www.w3.org/1999/xlink\" width=\"1100\" height=\"500\" style=\"\" viewBox=\"0 0 1100 500\"><rect x=\"0\" y=\"0\" width=\"1100\" height=\"500\" style=\"fill: rgb(0, 0, 0); fill-opacity: 0;\"/><defs id=\"defs-78e371\"><g class=\"clips\"><clipPath id=\"clip78e371xyplot\" class=\"plotclip\"><rect width=\"647\" height=\"320\"/></clipPath><clipPath class=\"axesclip\" id=\"clip78e371x\"><rect x=\"373\" y=\"0\" width=\"647\" height=\"500\"/></clipPath><clipPath class=\"axesclip\" id=\"clip78e371y\"><rect x=\"0\" y=\"100\" width=\"1100\" height=\"320\"/></clipPath><clipPath class=\"axesclip\" id=\"clip78e371xy\"><rect x=\"373\" y=\"100\" width=\"647\" height=\"320\"/></clipPath></g><g class=\"gradients\"/><g class=\"patterns\"/></defs><g class=\"bglayer\"><rect class=\"bg\" x=\"373\" y=\"100\" width=\"647\" height=\"320\" style=\"fill: rgb(0, 0, 0); fill-opacity: 0; stroke-width: 0;\"/></g><g class=\"layer-below\"><g class=\"imagelayer\"/><g class=\"shapelayer\"/></g><g class=\"cartesianlayer\"><g class=\"subplot xy\"><g class=\"layer-subplot\"><g class=\"shapelayer\"/><g class=\"imagelayer\"/></g><g class=\"minor-gridlayer\"><g class=\"x\"/><g class=\"y\"/></g><g class=\"gridlayer\"><g class=\"x\"><path class=\"xgrid crisp\" transform=\"translate(478.99,0)\" d=\"M0,100v320\" style=\"stroke: rgb(40, 52, 66); stroke-opacity: 1; stroke-width: 1px;\"/><path class=\"xgrid crisp\" transform=\"translate(584.97,0)\" d=\"M0,100v320\" style=\"stroke: rgb(40, 52, 66); stroke-opacity: 1; stroke-width: 1px;\"/><path class=\"xgrid crisp\" transform=\"translate(690.96,0)\" d=\"M0,100v320\" style=\"stroke: rgb(40, 52, 66); stroke-opacity: 1; stroke-width: 1px;\"/><path class=\"xgrid crisp\" transform=\"translate(796.94,0)\" d=\"M0,100v320\" style=\"stroke: rgb(40, 52, 66); stroke-opacity: 1; stroke-width: 1px;\"/><path class=\"xgrid crisp\" transform=\"translate(902.93,0)\" d=\"M0,100v320\" style=\"stroke: rgb(40, 52, 66); stroke-opacity: 1; stroke-width: 1px;\"/><path class=\"xgrid crisp\" transform=\"translate(1008.91,0)\" d=\"M0,100v320\" style=\"stroke: rgb(40, 52, 66); stroke-opacity: 1; stroke-width: 1px;\"/></g><g class=\"y\"/></g><g class=\"zerolinelayer\"><path class=\"xzl zl crisp\" transform=\"translate(373,0)\" d=\"M0,100v320\" style=\"stroke: rgb(40, 52, 66); stroke-opacity: 1; stroke-width: 2px;\"/></g><path class=\"xlines-below\"/><path class=\"ylines-below\"/><g class=\"overlines-below\"/><g class=\"xaxislayer-below\"/><g class=\"yaxislayer-below\"/><g class=\"overaxes-below\"/><g class=\"plot\" transform=\"translate(373,100)\" clip-path=\"url(#clip78e371xyplot)\"><g class=\"barlayer mlayer\"><g class=\"trace bars\" style=\"opacity: 1;\"><g class=\"points\"><g class=\"point\"><path d=\"M0,316.8V291.2H38.62V316.8Z\" style=\"vector-effect: none; opacity: 1; stroke-width: 0.5px; fill: rgb(99, 110, 250); fill-opacity: 1; stroke: rgb(17, 17, 17); stroke-opacity: 1;\"/></g><g class=\"point\"><path d=\"M0,284.8V259.2H40.13V284.8Z\" style=\"vector-effect: none; opacity: 1; stroke-width: 0.5px; fill: rgb(99, 110, 250); fill-opacity: 1; stroke: rgb(17, 17, 17); stroke-opacity: 1;\"/></g><g class=\"point\"><path d=\"M0,252.8V227.2H43.54V252.8Z\" style=\"vector-effect: none; opacity: 1; stroke-width: 0.5px; fill: rgb(99, 110, 250); fill-opacity: 1; stroke: rgb(17, 17, 17); stroke-opacity: 1;\"/></g><g class=\"point\"><path d=\"M0,220.8V195.2H44.68V220.8Z\" style=\"vector-effect: none; opacity: 1; stroke-width: 0.5px; fill: rgb(99, 110, 250); fill-opacity: 1; stroke: rgb(17, 17, 17); stroke-opacity: 1;\"/></g><g class=\"point\"><path d=\"M0,188.8V163.2H65.2V188.8Z\" style=\"vector-effect: none; opacity: 1; stroke-width: 0.5px; fill: rgb(99, 110, 250); fill-opacity: 1; stroke: rgb(17, 17, 17); stroke-opacity: 1;\"/></g><g class=\"point\"><path d=\"M0,156.8V131.2H73V156.8Z\" style=\"vector-effect: none; opacity: 1; stroke-width: 0.5px; fill: rgb(99, 110, 250); fill-opacity: 1; stroke: rgb(17, 17, 17); stroke-opacity: 1;\"/></g><g class=\"point\"><path d=\"M0,124.8V99.2H118.07V124.8Z\" style=\"vector-effect: none; opacity: 1; stroke-width: 0.5px; fill: rgb(99, 110, 250); fill-opacity: 1; stroke: rgb(17, 17, 17); stroke-opacity: 1;\"/></g><g class=\"point\"><path d=\"M0,92.8V67.2H357.68V92.8Z\" style=\"vector-effect: none; opacity: 1; stroke-width: 0.5px; fill: rgb(99, 110, 250); fill-opacity: 1; stroke: rgb(17, 17, 17); stroke-opacity: 1;\"/></g><g class=\"point\"><path d=\"M0,60.8V35.2H427.23V60.8Z\" style=\"vector-effect: none; opacity: 1; stroke-width: 0.5px; fill: rgb(99, 110, 250); fill-opacity: 1; stroke: rgb(17, 17, 17); stroke-opacity: 1;\"/></g><g class=\"point\"><path d=\"M0,28.8V3.2H614.65V28.8Z\" style=\"vector-effect: none; opacity: 1; stroke-width: 0.5px; fill: rgb(99, 110, 250); fill-opacity: 1; stroke: rgb(17, 17, 17); stroke-opacity: 1;\"/></g></g></g></g></g><g class=\"overplot\"/><path class=\"xlines-above crisp\" d=\"M0,0\" style=\"fill: none;\"/><path class=\"ylines-above crisp\" d=\"M0,0\" style=\"fill: none;\"/><g class=\"overlines-above\"/><g class=\"xaxislayer-above\"><g class=\"xtick\"><text text-anchor=\"middle\" x=\"0\" y=\"433\" transform=\"translate(373,0)\" style=\"font-family: 'Courier New'; font-size: 12px; fill: rgb(0, 0, 0); fill-opacity: 1; white-space: pre; opacity: 1;\">0</text></g><g class=\"xtick\"><text text-anchor=\"middle\" x=\"0\" y=\"433\" style=\"font-family: 'Courier New'; font-size: 12px; fill: rgb(0, 0, 0); fill-opacity: 1; white-space: pre; opacity: 1;\" transform=\"translate(478.99,0)\">5k</text></g><g class=\"xtick\"><text text-anchor=\"middle\" x=\"0\" y=\"433\" style=\"font-family: 'Courier New'; font-size: 12px; fill: rgb(0, 0, 0); fill-opacity: 1; white-space: pre; opacity: 1;\" transform=\"translate(584.97,0)\">10k</text></g><g class=\"xtick\"><text text-anchor=\"middle\" x=\"0\" y=\"433\" style=\"font-family: 'Courier New'; font-size: 12px; fill: rgb(0, 0, 0); fill-opacity: 1; white-space: pre; opacity: 1;\" transform=\"translate(690.96,0)\">15k</text></g><g class=\"xtick\"><text text-anchor=\"middle\" x=\"0\" y=\"433\" style=\"font-family: 'Courier New'; font-size: 12px; fill: rgb(0, 0, 0); fill-opacity: 1; white-space: pre; opacity: 1;\" transform=\"translate(796.94,0)\">20k</text></g><g class=\"xtick\"><text text-anchor=\"middle\" x=\"0\" y=\"433\" style=\"font-family: 'Courier New'; font-size: 12px; fill: rgb(0, 0, 0); fill-opacity: 1; white-space: pre; opacity: 1;\" transform=\"translate(902.93,0)\">25k</text></g><g class=\"xtick\"><text text-anchor=\"middle\" x=\"0\" y=\"433\" style=\"font-family: 'Courier New'; font-size: 12px; fill: rgb(0, 0, 0); fill-opacity: 1; white-space: pre; opacity: 1;\" transform=\"translate(1008.91,0)\">30k</text></g></g><g class=\"yaxislayer-above\"><g class=\"ytick\"><text text-anchor=\"end\" x=\"372\" y=\"4.199999999999999\" transform=\"translate(0,404)\" style=\"font-family: 'Courier New'; font-size: 12px; fill: rgb(0, 0, 0); fill-opacity: 1; white-space: pre; opacity: 1;\">INJURIA</text></g><g class=\"ytick\"><text text-anchor=\"end\" x=\"372\" y=\"4.199999999999999\" transform=\"translate(0,372)\" style=\"font-family: 'Courier New'; font-size: 12px; fill: rgb(0, 0, 0); fill-opacity: 1; white-space: pre; opacity: 1;\">FURTO</text></g><g class=\"ytick\"><text text-anchor=\"end\" x=\"372\" y=\"4.199999999999999\" transform=\"translate(0,340)\" style=\"font-family: 'Courier New'; font-size: 12px; fill: rgb(0, 0, 0); fill-opacity: 1; white-space: pre; opacity: 1;\">PERSEGUICAO</text></g><g class=\"ytick\"><text text-anchor=\"end\" x=\"372\" y=\"4.199999999999999\" transform=\"translate(0,308)\" style=\"font-family: 'Courier New'; font-size: 12px; fill: rgb(0, 0, 0); fill-opacity: 1; white-space: pre; opacity: 1;\">ATRITO VERBAL</text></g><g class=\"ytick\"><text text-anchor=\"end\" x=\"372\" y=\"4.199999999999999\" transform=\"translate(0,276)\" style=\"font-family: 'Courier New'; font-size: 12px; fill: rgb(0, 0, 0); fill-opacity: 1; white-space: pre; opacity: 1;\">DANO</text></g><g class=\"ytick\"><text text-anchor=\"end\" x=\"372\" y=\"4.199999999999999\" transform=\"translate(0,244)\" style=\"font-family: 'Courier New'; font-size: 12px; fill: rgb(0, 0, 0); fill-opacity: 1; white-space: pre; opacity: 1;\">ATEND. DENUNCIA INFRACOES CONTRA MULHER(VIOLENCIA </text></g><g class=\"ytick\"><text text-anchor=\"end\" x=\"372\" y=\"4.199999999999999\" transform=\"translate(0,212)\" style=\"font-family: 'Courier New'; font-size: 12px; fill: rgb(0, 0, 0); fill-opacity: 1; white-space: pre; opacity: 1;\">DESCUMPRIMENTO DE MEDIDA PROTETIVA DE URGENCIA</text></g><g class=\"ytick\"><text text-anchor=\"end\" x=\"372\" y=\"4.199999999999999\" transform=\"translate(0,180)\" style=\"font-family: 'Courier New'; font-size: 12px; fill: rgb(0, 0, 0); fill-opacity: 1; white-space: pre; opacity: 1;\">LESAO CORPORAL</text></g><g class=\"ytick\"><text text-anchor=\"end\" x=\"372\" y=\"4.199999999999999\" transform=\"translate(0,148)\" style=\"font-family: 'Courier New'; font-size: 12px; fill: rgb(0, 0, 0); fill-opacity: 1; white-space: pre; opacity: 1;\">VIAS DE FATO / AGRESSAO</text></g><g class=\"ytick\"><text text-anchor=\"end\" x=\"372\" y=\"4.199999999999999\" transform=\"translate(0,116)\" style=\"font-family: 'Courier New'; font-size: 12px; fill: rgb(0, 0, 0); fill-opacity: 1; white-space: pre; opacity: 1;\">AMEACA</text></g></g><g class=\"overaxes-above\"/></g></g><g class=\"polarlayer\"/><g class=\"smithlayer\"/><g class=\"ternarylayer\"/><g class=\"geolayer\"/><g class=\"funnelarealayer\"/><g class=\"pielayer\"/><g class=\"iciclelayer\"/><g class=\"treemaplayer\"/><g class=\"sunburstlayer\"/><g class=\"glimages\"/><defs id=\"topdefs-78e371\"><g class=\"clips\"/></defs><g class=\"layer-above\"><g class=\"imagelayer\"/><g class=\"shapelayer\"/></g><g class=\"infolayer\"><g class=\"g-gtitle\"><text class=\"gtitle\" x=\"155\" y=\"50\" text-anchor=\"start\" dy=\"0em\" style=\"font-family: 'Courier New'; font-size: 17px; fill: rgb(0, 0, 0); opacity: 1; font-weight: normal; white-space: pre;\">Os 10 tipos de delitos de violência doméstica que mais ocorreram no ano de 2022 em MG</text></g><g class=\"g-xtitle\"><text class=\"xtitle\" x=\"696.5\" y=\"462\" text-anchor=\"middle\" style=\"font-family: 'Courier New'; font-size: 15px; fill: rgb(0, 0, 0); opacity: 1; font-weight: normal; white-space: pre;\">N° de ocorrências</text></g><g class=\"g-ytitle\"/></g></svg>"
      ]
     },
     "metadata": {},
     "output_type": "display_data"
    }
   ],
   "source": [
    "#plotando os 10 tipos de delitos que mais ocorreram\n",
    "\n",
    "x=tipo_delito[0:10].sort_values(ascending=True)\n",
    "y=tipo_delito[0:10].sort_values(ascending=True).index\n",
    "fig1=go.Figure()\n",
    "\n",
    "fig1.add_trace(go.Bar(x=x,y=y,orientation='h'))\n",
    "fig1.update_layout(title='Os 10 tipos de delitos de violência doméstica que mais ocorreram no ano de 2022 em MG',\n",
    "                                title_font=dict(family='Courier New',color='Black'),\n",
    "                                title_pad=dict(b=2,l=100,r=2,t=2),\n",
    "                                template='plotly_dark',\n",
    "                                plot_bgcolor='rgba(0, 0, 0, 0)',\n",
    "                                paper_bgcolor='rgba(0, 0, 0, 0)',)\n",
    "\n",
    "\n",
    "fig1.update_xaxes(title=dict(text='N° de ocorrências',font_family='Courier New',font_size=15,font_color='Black'),tickfont=dict(family='Courier New',color='Black'))\n",
    "fig1.update_yaxes(tickfont=dict(family='Courier New',color='Black'))\n",
    "\n",
    "fig1.show('svg',width=1100)"
   ]
  },
  {
   "cell_type": "markdown",
   "metadata": {},
   "source": [
    "Observando o gráfico nota-se que a ameaça foi o tipo de delito que mais ocorreu e injuria foi o que menos ocorreu entre os 10."
   ]
  },
  {
   "cell_type": "markdown",
   "metadata": {},
   "source": [
    "### Qual dia que ocorreu a maior quantidade de crimes e o menor ?"
   ]
  },
  {
   "cell_type": "code",
   "execution_count": 24,
   "metadata": {},
   "outputs": [],
   "source": [
    "df_dia=df.groupby('data_fato')['qtde_vitimas'].sum()\n",
    "dia_max=df_dia.idxmax()\n",
    "quant_max=df_dia.max()\n",
    "dia_min=df_dia.idxmin()\n",
    "quant_min=df_dia.min()"
   ]
  },
  {
   "cell_type": "code",
   "execution_count": 25,
   "metadata": {},
   "outputs": [
    {
     "name": "stdout",
     "output_type": "stream",
     "text": [
      "Dia que mais teve vítimas: 2022-12-25 00:00:00      Quantidade de vítimas: 631\n",
      "Dia que menos teve vítimas: 2022-05-19 00:00:00      Quantidade de vítimas: 255\n"
     ]
    }
   ],
   "source": [
    "print(f'Dia que mais teve vítimas: {dia_max}      Quantidade de vítimas: {quant_max}\\nDia que menos teve vítimas: {dia_min}      Quantidade de vítimas: {quant_min}')"
   ]
  },
  {
   "cell_type": "markdown",
   "metadata": {},
   "source": [
    "Infelizmente observa-se que no dia do natal foi o maior número de vítimas"
   ]
  },
  {
   "cell_type": "markdown",
   "metadata": {},
   "source": [
    "### Qual dia da semana que mais ocorreu crimes?"
   ]
  },
  {
   "cell_type": "code",
   "execution_count": 26,
   "metadata": {},
   "outputs": [],
   "source": [
    "#pegando as datas\n",
    "data_fds=df['data_fato']\n",
    "data_fds=list(data_fds)\n"
   ]
  },
  {
   "cell_type": "code",
   "execution_count": 27,
   "metadata": {},
   "outputs": [],
   "source": [
    "#função que verifica a data e tranforma em dia da semana\n",
    "def verifica_fds(data):\n",
    "    \n",
    "    dia_da_semana=data.dayofweek\n",
    "    \n",
    "    match dia_da_semana:\n",
    "\n",
    "        case 0:\n",
    "            dia_da_semana='segunda-feira'\n",
    "        case 1:\n",
    "            dia_da_semana='terça-feira'\n",
    "        case 2:\n",
    "            dia_da_semana='quarta-feira'\n",
    "        case 3:\n",
    "            dia_da_semana='quinta-feira'\n",
    "        case 4:\n",
    "            dia_da_semana='sexta-feira'\n",
    "        case 5:\n",
    "            dia_da_semana='sabado'\n",
    "        case 6:\n",
    "            dia_da_semana='domingo'\n",
    "    return dia_da_semana\n"
   ]
  },
  {
   "cell_type": "code",
   "execution_count": 28,
   "metadata": {},
   "outputs": [],
   "source": [
    "data_day=list()\n",
    "for i in data_fds:\n",
    "    data_day.append(verifica_fds(i))"
   ]
  },
  {
   "cell_type": "code",
   "execution_count": 29,
   "metadata": {},
   "outputs": [],
   "source": [
    "df_modificado=df\n",
    "df_modificado['dia_fato']=data_day"
   ]
  },
  {
   "cell_type": "code",
   "execution_count": 30,
   "metadata": {},
   "outputs": [
    {
     "data": {
      "text/html": [
       "<div>\n",
       "<style scoped>\n",
       "    .dataframe tbody tr th:only-of-type {\n",
       "        vertical-align: middle;\n",
       "    }\n",
       "\n",
       "    .dataframe tbody tr th {\n",
       "        vertical-align: top;\n",
       "    }\n",
       "\n",
       "    .dataframe thead th {\n",
       "        text-align: right;\n",
       "    }\n",
       "</style>\n",
       "<table border=\"1\" class=\"dataframe\">\n",
       "  <thead>\n",
       "    <tr style=\"text-align: right;\">\n",
       "      <th></th>\n",
       "      <th>municipio_fato</th>\n",
       "      <th>data_fato</th>\n",
       "      <th>mes</th>\n",
       "      <th>rmbh</th>\n",
       "      <th>natureza_delito</th>\n",
       "      <th>tentado_consumado</th>\n",
       "      <th>qtde_vitimas</th>\n",
       "      <th>dia_fato</th>\n",
       "    </tr>\n",
       "  </thead>\n",
       "  <tbody>\n",
       "    <tr>\n",
       "      <th>0</th>\n",
       "      <td>ABADIA DOS DOURADOS</td>\n",
       "      <td>2022-01-01</td>\n",
       "      <td>1</td>\n",
       "      <td>3) Interior de MG</td>\n",
       "      <td>LESAO CORPORAL</td>\n",
       "      <td>CONSUMADO</td>\n",
       "      <td>1</td>\n",
       "      <td>sabado</td>\n",
       "    </tr>\n",
       "    <tr>\n",
       "      <th>1</th>\n",
       "      <td>ABAETE</td>\n",
       "      <td>2022-01-01</td>\n",
       "      <td>1</td>\n",
       "      <td>3) Interior de MG</td>\n",
       "      <td>AMEACA</td>\n",
       "      <td>CONSUMADO</td>\n",
       "      <td>1</td>\n",
       "      <td>sabado</td>\n",
       "    </tr>\n",
       "    <tr>\n",
       "      <th>2</th>\n",
       "      <td>ABRE-CAMPO</td>\n",
       "      <td>2022-01-01</td>\n",
       "      <td>1</td>\n",
       "      <td>3) Interior de MG</td>\n",
       "      <td>LESAO CORPORAL</td>\n",
       "      <td>CONSUMADO</td>\n",
       "      <td>1</td>\n",
       "      <td>sabado</td>\n",
       "    </tr>\n",
       "    <tr>\n",
       "      <th>3</th>\n",
       "      <td>ABRE-CAMPO</td>\n",
       "      <td>2022-01-01</td>\n",
       "      <td>1</td>\n",
       "      <td>3) Interior de MG</td>\n",
       "      <td>VIAS DE FATO / AGRESSAO</td>\n",
       "      <td>CONSUMADO</td>\n",
       "      <td>1</td>\n",
       "      <td>sabado</td>\n",
       "    </tr>\n",
       "    <tr>\n",
       "      <th>4</th>\n",
       "      <td>AGUAS FORMOSAS</td>\n",
       "      <td>2022-01-01</td>\n",
       "      <td>1</td>\n",
       "      <td>3) Interior de MG</td>\n",
       "      <td>AMEACA</td>\n",
       "      <td>CONSUMADO</td>\n",
       "      <td>1</td>\n",
       "      <td>sabado</td>\n",
       "    </tr>\n",
       "  </tbody>\n",
       "</table>\n",
       "</div>"
      ],
      "text/plain": [
       "        municipio_fato  data_fato  mes               rmbh  \\\n",
       "0  ABADIA DOS DOURADOS 2022-01-01    1  3) Interior de MG   \n",
       "1               ABAETE 2022-01-01    1  3) Interior de MG   \n",
       "2           ABRE-CAMPO 2022-01-01    1  3) Interior de MG   \n",
       "3           ABRE-CAMPO 2022-01-01    1  3) Interior de MG   \n",
       "4       AGUAS FORMOSAS 2022-01-01    1  3) Interior de MG   \n",
       "\n",
       "           natureza_delito tentado_consumado  qtde_vitimas dia_fato  \n",
       "0           LESAO CORPORAL         CONSUMADO             1   sabado  \n",
       "1                   AMEACA         CONSUMADO             1   sabado  \n",
       "2           LESAO CORPORAL         CONSUMADO             1   sabado  \n",
       "3  VIAS DE FATO / AGRESSAO         CONSUMADO             1   sabado  \n",
       "4                   AMEACA         CONSUMADO             1   sabado  "
      ]
     },
     "execution_count": 30,
     "metadata": {},
     "output_type": "execute_result"
    }
   ],
   "source": [
    "df_modificado.head()"
   ]
  },
  {
   "cell_type": "code",
   "execution_count": 31,
   "metadata": {},
   "outputs": [],
   "source": [
    "df_modificado_mes=df_modificado.groupby('dia_fato')['qtde_vitimas'].sum()"
   ]
  },
  {
   "cell_type": "code",
   "execution_count": 57,
   "metadata": {},
   "outputs": [
    {
     "data": {
      "image/svg+xml": [
       "<svg class=\"main-svg\" xmlns=\"http://www.w3.org/2000/svg\" xmlns:xlink=\"http://www.w3.org/1999/xlink\" width=\"1100\" height=\"500\" style=\"\" viewBox=\"0 0 1100 500\"><rect x=\"0\" y=\"0\" width=\"1100\" height=\"500\" style=\"fill: rgb(0, 0, 0); fill-opacity: 0;\"/><defs id=\"defs-c0c071\"><g class=\"clips\"><clipPath id=\"clipc0c071xyplot\" class=\"plotclip\"><rect width=\"940\" height=\"320\"/></clipPath><clipPath class=\"axesclip\" id=\"clipc0c071x\"><rect x=\"80\" y=\"0\" width=\"940\" height=\"500\"/></clipPath><clipPath class=\"axesclip\" id=\"clipc0c071y\"><rect x=\"0\" y=\"100\" width=\"1100\" height=\"320\"/></clipPath><clipPath class=\"axesclip\" id=\"clipc0c071xy\"><rect x=\"80\" y=\"100\" width=\"940\" height=\"320\"/></clipPath></g><g class=\"gradients\"/><g class=\"patterns\"/></defs><g class=\"bglayer\"><rect class=\"bg\" x=\"80\" y=\"100\" width=\"940\" height=\"320\" style=\"fill: rgb(0, 0, 0); fill-opacity: 0; stroke-width: 0;\"/></g><g class=\"layer-below\"><g class=\"imagelayer\"/><g class=\"shapelayer\"/></g><g class=\"cartesianlayer\"><g class=\"subplot xy\"><g class=\"layer-subplot\"><g class=\"shapelayer\"/><g class=\"imagelayer\"/></g><g class=\"minor-gridlayer\"><g class=\"x\"/><g class=\"y\"/></g><g class=\"gridlayer\"><g class=\"x\"/><g class=\"y\"><path class=\"ygrid crisp\" transform=\"translate(0,363.85)\" d=\"M80,0h940\" style=\"stroke: rgb(40, 52, 66); stroke-opacity: 1; stroke-width: 1px;\"/><path class=\"ygrid crisp\" transform=\"translate(0,307.71000000000004)\" d=\"M80,0h940\" style=\"stroke: rgb(40, 52, 66); stroke-opacity: 1; stroke-width: 1px;\"/><path class=\"ygrid crisp\" transform=\"translate(0,251.56)\" d=\"M80,0h940\" style=\"stroke: rgb(40, 52, 66); stroke-opacity: 1; stroke-width: 1px;\"/><path class=\"ygrid crisp\" transform=\"translate(0,195.41)\" d=\"M80,0h940\" style=\"stroke: rgb(40, 52, 66); stroke-opacity: 1; stroke-width: 1px;\"/><path class=\"ygrid crisp\" transform=\"translate(0,139.27)\" d=\"M80,0h940\" style=\"stroke: rgb(40, 52, 66); stroke-opacity: 1; stroke-width: 1px;\"/></g></g><g class=\"zerolinelayer\"><path class=\"yzl zl crisp\" transform=\"translate(0,420)\" d=\"M80,0h940\" style=\"stroke: rgb(40, 52, 66); stroke-opacity: 1; stroke-width: 2px;\"/></g><path class=\"xlines-below\"/><path class=\"ylines-below\"/><g class=\"overlines-below\"/><g class=\"xaxislayer-below\"/><g class=\"yaxislayer-below\"/><g class=\"overaxes-below\"/><g class=\"plot\" transform=\"translate(80,100)\" clip-path=\"url(#clipc0c071xyplot)\"><g class=\"barlayer mlayer\"><g class=\"trace bars\" style=\"opacity: 1;\"><g class=\"points\"><g class=\"point\"><path d=\"M13.43,320V127.98H120.86V320Z\" style=\"vector-effect: none; opacity: 1; stroke-width: 0.5px; fill: rgb(99, 110, 250); fill-opacity: 1; stroke: rgb(17, 17, 17); stroke-opacity: 1;\"/></g><g class=\"point\"><path d=\"M147.71,320V126.74H255.14V320Z\" style=\"vector-effect: none; opacity: 1; stroke-width: 0.5px; fill: rgb(99, 110, 250); fill-opacity: 1; stroke: rgb(17, 17, 17); stroke-opacity: 1;\"/></g><g class=\"point\"><path d=\"M282,320V121.89H389.43V320Z\" style=\"vector-effect: none; opacity: 1; stroke-width: 0.5px; fill: rgb(99, 110, 250); fill-opacity: 1; stroke: rgb(17, 17, 17); stroke-opacity: 1;\"/></g><g class=\"point\"><path d=\"M416.29,320V121.88H523.71V320Z\" style=\"vector-effect: none; opacity: 1; stroke-width: 0.5px; fill: rgb(99, 110, 250); fill-opacity: 1; stroke: rgb(17, 17, 17); stroke-opacity: 1;\"/></g><g class=\"point\"><path d=\"M550.57,320V94.82H658V320Z\" style=\"vector-effect: none; opacity: 1; stroke-width: 0.5px; fill: rgb(99, 110, 250); fill-opacity: 1; stroke: rgb(17, 17, 17); stroke-opacity: 1;\"/></g><g class=\"point\"><path d=\"M684.86,320V57.9H792.29V320Z\" style=\"vector-effect: none; opacity: 1; stroke-width: 0.5px; fill: rgb(99, 110, 250); fill-opacity: 1; stroke: rgb(17, 17, 17); stroke-opacity: 1;\"/></g><g class=\"point\"><path d=\"M819.14,320V16H926.57V320Z\" style=\"vector-effect: none; opacity: 1; stroke-width: 0.5px; fill: rgb(99, 110, 250); fill-opacity: 1; stroke: rgb(17, 17, 17); stroke-opacity: 1;\"/></g></g></g></g></g><g class=\"overplot\"/><path class=\"xlines-above crisp\" d=\"M0,0\" style=\"fill: none;\"/><path class=\"ylines-above crisp\" d=\"M0,0\" style=\"fill: none;\"/><g class=\"overlines-above\"/><g class=\"xaxislayer-above\"><g class=\"xtick\"><text text-anchor=\"middle\" x=\"0\" y=\"433\" transform=\"translate(147.14,0)\" style=\"font-family: 'Courier New'; font-size: 12px; fill: rgb(0, 0, 0); fill-opacity: 1; white-space: pre; opacity: 1;\">quinta-feira</text></g><g class=\"xtick\"><text text-anchor=\"middle\" x=\"0\" y=\"433\" transform=\"translate(281.43,0)\" style=\"font-family: 'Courier New'; font-size: 12px; fill: rgb(0, 0, 0); fill-opacity: 1; white-space: pre; opacity: 1;\">terça-feira</text></g><g class=\"xtick\"><text text-anchor=\"middle\" x=\"0\" y=\"433\" transform=\"translate(415.71,0)\" style=\"font-family: 'Courier New'; font-size: 12px; fill: rgb(0, 0, 0); fill-opacity: 1; white-space: pre; opacity: 1;\">sexta-feira</text></g><g class=\"xtick\"><text text-anchor=\"middle\" x=\"0\" y=\"433\" transform=\"translate(550,0)\" style=\"font-family: 'Courier New'; font-size: 12px; fill: rgb(0, 0, 0); fill-opacity: 1; white-space: pre; opacity: 1;\">quarta-feira</text></g><g class=\"xtick\"><text text-anchor=\"middle\" x=\"0\" y=\"433\" transform=\"translate(684.29,0)\" style=\"font-family: 'Courier New'; font-size: 12px; fill: rgb(0, 0, 0); fill-opacity: 1; white-space: pre; opacity: 1;\">segunda-feira</text></g><g class=\"xtick\"><text text-anchor=\"middle\" x=\"0\" y=\"433\" transform=\"translate(818.57,0)\" style=\"font-family: 'Courier New'; font-size: 12px; fill: rgb(0, 0, 0); fill-opacity: 1; white-space: pre; opacity: 1;\">sabado</text></g><g class=\"xtick\"><text text-anchor=\"middle\" x=\"0\" y=\"433\" transform=\"translate(952.86,0)\" style=\"font-family: 'Courier New'; font-size: 12px; fill: rgb(0, 0, 0); fill-opacity: 1; white-space: pre; opacity: 1;\">domingo</text></g></g><g class=\"yaxislayer-above\"><g class=\"ytick\"><text text-anchor=\"end\" x=\"79\" y=\"4.199999999999999\" transform=\"translate(0,420)\" style=\"font-family: 'Courier New'; font-size: 12px; fill: rgb(0, 0, 0); fill-opacity: 1; white-space: pre; opacity: 1;\">0</text></g><g class=\"ytick\"><text text-anchor=\"end\" x=\"79\" y=\"4.199999999999999\" style=\"font-family: 'Courier New'; font-size: 12px; fill: rgb(0, 0, 0); fill-opacity: 1; white-space: pre; opacity: 1;\" transform=\"translate(0,363.85)\">5k</text></g><g class=\"ytick\"><text text-anchor=\"end\" x=\"79\" y=\"4.199999999999999\" style=\"font-family: 'Courier New'; font-size: 12px; fill: rgb(0, 0, 0); fill-opacity: 1; white-space: pre; opacity: 1;\" transform=\"translate(0,307.71000000000004)\">10k</text></g><g class=\"ytick\"><text text-anchor=\"end\" x=\"79\" y=\"4.199999999999999\" style=\"font-family: 'Courier New'; font-size: 12px; fill: rgb(0, 0, 0); fill-opacity: 1; white-space: pre; opacity: 1;\" transform=\"translate(0,251.56)\">15k</text></g><g class=\"ytick\"><text text-anchor=\"end\" x=\"79\" y=\"4.199999999999999\" style=\"font-family: 'Courier New'; font-size: 12px; fill: rgb(0, 0, 0); fill-opacity: 1; white-space: pre; opacity: 1;\" transform=\"translate(0,195.41)\">20k</text></g><g class=\"ytick\"><text text-anchor=\"end\" x=\"79\" y=\"4.199999999999999\" style=\"font-family: 'Courier New'; font-size: 12px; fill: rgb(0, 0, 0); fill-opacity: 1; white-space: pre; opacity: 1;\" transform=\"translate(0,139.27)\">25k</text></g></g><g class=\"overaxes-above\"/></g></g><g class=\"polarlayer\"/><g class=\"smithlayer\"/><g class=\"ternarylayer\"/><g class=\"geolayer\"/><g class=\"funnelarealayer\"/><g class=\"pielayer\"/><g class=\"iciclelayer\"/><g class=\"treemaplayer\"/><g class=\"sunburstlayer\"/><g class=\"glimages\"/><defs id=\"topdefs-c0c071\"><g class=\"clips\"/></defs><g class=\"layer-above\"><g class=\"imagelayer\"/><g class=\"shapelayer\"/></g><g class=\"infolayer\"><g class=\"g-gtitle\"><text class=\"gtitle\" x=\"355\" y=\"50\" text-anchor=\"start\" dy=\"0em\" style=\"font-family: 'Courier New'; font-size: 17px; fill: rgb(0, 0, 0); opacity: 1; font-weight: normal; white-space: pre;\">Quantidade de vítimas por dia da semana</text></g><g class=\"g-xtitle\"><text class=\"xtitle\" x=\"550\" y=\"462\" text-anchor=\"middle\" style=\"font-family: 'Courier New'; font-size: 15px; fill: rgb(0, 0, 0); opacity: 1; font-weight: normal; white-space: pre;\">Dias da semana</text></g><g class=\"g-ytitle\"><text class=\"ytitle\" transform=\"rotate(-90,32.390625,260)\" x=\"32.390625\" y=\"260\" text-anchor=\"middle\" style=\"font-family: 'Courier New'; font-size: 15px; fill: rgb(0, 0, 0); opacity: 1; font-weight: normal; white-space: pre;\">N° de ocorrências</text></g></g></svg>"
      ]
     },
     "metadata": {},
     "output_type": "display_data"
    }
   ],
   "source": [
    "x=df_modificado_mes.sort_values(ascending=True).index\n",
    "y=df_modificado_mes.sort_values(ascending=True)\n",
    "fig2=go.Figure()\n",
    "\n",
    "fig2.add_trace(go.Bar(x=x,y=y))\n",
    "fig2.update_layout(title='Quantidade de vítimas por dia da semana',\n",
    "                                title_font=dict(family='Courier New',color='Black'),\n",
    "                                title_pad=dict(b=2,l=300,r=2,t=2),\n",
    "                                template='plotly_dark',\n",
    "                                plot_bgcolor='rgba(0, 0, 0, 0)',\n",
    "                                paper_bgcolor='rgba(0, 0, 0, 0)',)\n",
    "\n",
    "\n",
    "fig2.update_xaxes(title=dict(text='Dias da semana',font_family='Courier New',font_size=15,font_color='Black'),tickfont=dict(family='Courier New',color='Black'))\n",
    "fig2.update_yaxes(title=dict(text='N° de ocorrências',font_family='Courier New',font_size=15,font_color='Black'),tickfont=dict(family='Courier New',color='Black'))\n",
    "\n",
    "fig2.show('svg',width=1100)"
   ]
  },
  {
   "cell_type": "markdown",
   "metadata": {},
   "source": [
    "Observando o gráfico nota-se que domingo foi o dia da semana que mais teve vítimas "
   ]
  },
  {
   "cell_type": "markdown",
   "metadata": {},
   "source": [
    "### Qual região que teve a maior quantidade de vítimas ?"
   ]
  },
  {
   "cell_type": "code",
   "execution_count": 33,
   "metadata": {},
   "outputs": [
    {
     "data": {
      "text/plain": [
       "rmbh\n",
       "1) Belo Horizonte     16532\n",
       "2) RMBH (sem BH)      19108\n",
       "3) Interior de MG    104421\n",
       "Name: qtde_vitimas, dtype: int64"
      ]
     },
     "execution_count": 33,
     "metadata": {},
     "output_type": "execute_result"
    }
   ],
   "source": [
    "df_region=df.groupby('rmbh')['qtde_vitimas'].sum()\n",
    "df_region"
   ]
  },
  {
   "cell_type": "markdown",
   "metadata": {},
   "source": [
    "O interior de MG foi a região que teve a maior quantidade de vítimas."
   ]
  }
 ],
 "metadata": {
  "kernelspec": {
   "display_name": "Python 3 (ipykernel)",
   "language": "python",
   "name": "python3"
  },
  "language_info": {
   "codemirror_mode": {
    "name": "ipython",
    "version": 3
   },
   "file_extension": ".py",
   "mimetype": "text/x-python",
   "name": "python",
   "nbconvert_exporter": "python",
   "pygments_lexer": "ipython3",
   "version": "3.11.3"
  }
 },
 "nbformat": 4,
 "nbformat_minor": 4
}
